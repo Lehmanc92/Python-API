{
 "cells": [
  {
   "cell_type": "markdown",
   "metadata": {},
   "source": [
    "# VacationPy\n",
    "----\n",
    "\n",
    "#### Note\n",
    "* Keep an eye on your API usage. Use https://developers.google.com/maps/reporting/gmp-reporting as reference for how to monitor your usage and billing.\n",
    "\n",
    "* Instructions have been included for each segment. You do not have to follow them exactly, but they are included to help you think through the steps."
   ]
  },
  {
   "cell_type": "code",
   "execution_count": 1,
   "metadata": {},
   "outputs": [],
   "source": [
    "# Dependencies and Setup\n",
    "import matplotlib.pyplot as plt\n",
    "import pandas as pd\n",
    "import numpy as np\n",
    "import requests\n",
    "import gmaps\n",
    "import os\n",
    "\n",
    "# Import API key\n",
    "from api_keys import g_key"
   ]
  },
  {
   "cell_type": "markdown",
   "metadata": {},
   "source": [
    "### Store Part I results into DataFrame\n",
    "* Load the csv exported in Part I to a DataFrame"
   ]
  },
  {
   "cell_type": "code",
   "execution_count": 2,
   "metadata": {},
   "outputs": [
    {
     "output_type": "execute_result",
     "data": {
      "text/plain": [
       "     Unnamed: 0         City      Lat       Lng  Max Temp (f)  Humidity  \\\n",
       "0             0        vaini -21.2000 -175.2000        75.470       100   \n",
       "1             1     hermanus -34.4187   19.2345        49.262        93   \n",
       "2             2      rikitea -23.1203 -134.9692        76.892        66   \n",
       "3             3       atuona  -9.8000 -139.0333        79.808        68   \n",
       "4             4   georgetown   5.4112  100.3354        82.670        88   \n",
       "..          ...          ...      ...       ...           ...       ...   \n",
       "561         561        adrar  20.5022  -10.0711        79.610        31   \n",
       "562         562        bouna   9.2667   -3.0000        82.724        60   \n",
       "563         563     felanitx  39.4696    3.1483        57.470        94   \n",
       "564         564      wynyard -41.0000  145.7167        61.610        76   \n",
       "565         565  broken hill -31.9500  141.4333        73.670        28   \n",
       "\n",
       "     Cloudiness  Wind Speed  \n",
       "0            75        5.14  \n",
       "1            50        2.19  \n",
       "2            77        5.37  \n",
       "3             5        1.97  \n",
       "4            20        2.06  \n",
       "..          ...         ...  \n",
       "561           5        4.64  \n",
       "562         100        3.38  \n",
       "563          40        1.54  \n",
       "564          23        2.26  \n",
       "565           0        4.63  \n",
       "\n",
       "[566 rows x 8 columns]"
      ],
      "text/html": "<div>\n<style scoped>\n    .dataframe tbody tr th:only-of-type {\n        vertical-align: middle;\n    }\n\n    .dataframe tbody tr th {\n        vertical-align: top;\n    }\n\n    .dataframe thead th {\n        text-align: right;\n    }\n</style>\n<table border=\"1\" class=\"dataframe\">\n  <thead>\n    <tr style=\"text-align: right;\">\n      <th></th>\n      <th>Unnamed: 0</th>\n      <th>City</th>\n      <th>Lat</th>\n      <th>Lng</th>\n      <th>Max Temp (f)</th>\n      <th>Humidity</th>\n      <th>Cloudiness</th>\n      <th>Wind Speed</th>\n    </tr>\n  </thead>\n  <tbody>\n    <tr>\n      <th>0</th>\n      <td>0</td>\n      <td>vaini</td>\n      <td>-21.2000</td>\n      <td>-175.2000</td>\n      <td>75.470</td>\n      <td>100</td>\n      <td>75</td>\n      <td>5.14</td>\n    </tr>\n    <tr>\n      <th>1</th>\n      <td>1</td>\n      <td>hermanus</td>\n      <td>-34.4187</td>\n      <td>19.2345</td>\n      <td>49.262</td>\n      <td>93</td>\n      <td>50</td>\n      <td>2.19</td>\n    </tr>\n    <tr>\n      <th>2</th>\n      <td>2</td>\n      <td>rikitea</td>\n      <td>-23.1203</td>\n      <td>-134.9692</td>\n      <td>76.892</td>\n      <td>66</td>\n      <td>77</td>\n      <td>5.37</td>\n    </tr>\n    <tr>\n      <th>3</th>\n      <td>3</td>\n      <td>atuona</td>\n      <td>-9.8000</td>\n      <td>-139.0333</td>\n      <td>79.808</td>\n      <td>68</td>\n      <td>5</td>\n      <td>1.97</td>\n    </tr>\n    <tr>\n      <th>4</th>\n      <td>4</td>\n      <td>georgetown</td>\n      <td>5.4112</td>\n      <td>100.3354</td>\n      <td>82.670</td>\n      <td>88</td>\n      <td>20</td>\n      <td>2.06</td>\n    </tr>\n    <tr>\n      <th>...</th>\n      <td>...</td>\n      <td>...</td>\n      <td>...</td>\n      <td>...</td>\n      <td>...</td>\n      <td>...</td>\n      <td>...</td>\n      <td>...</td>\n    </tr>\n    <tr>\n      <th>561</th>\n      <td>561</td>\n      <td>adrar</td>\n      <td>20.5022</td>\n      <td>-10.0711</td>\n      <td>79.610</td>\n      <td>31</td>\n      <td>5</td>\n      <td>4.64</td>\n    </tr>\n    <tr>\n      <th>562</th>\n      <td>562</td>\n      <td>bouna</td>\n      <td>9.2667</td>\n      <td>-3.0000</td>\n      <td>82.724</td>\n      <td>60</td>\n      <td>100</td>\n      <td>3.38</td>\n    </tr>\n    <tr>\n      <th>563</th>\n      <td>563</td>\n      <td>felanitx</td>\n      <td>39.4696</td>\n      <td>3.1483</td>\n      <td>57.470</td>\n      <td>94</td>\n      <td>40</td>\n      <td>1.54</td>\n    </tr>\n    <tr>\n      <th>564</th>\n      <td>564</td>\n      <td>wynyard</td>\n      <td>-41.0000</td>\n      <td>145.7167</td>\n      <td>61.610</td>\n      <td>76</td>\n      <td>23</td>\n      <td>2.26</td>\n    </tr>\n    <tr>\n      <th>565</th>\n      <td>565</td>\n      <td>broken hill</td>\n      <td>-31.9500</td>\n      <td>141.4333</td>\n      <td>73.670</td>\n      <td>28</td>\n      <td>0</td>\n      <td>4.63</td>\n    </tr>\n  </tbody>\n</table>\n<p>566 rows × 8 columns</p>\n</div>"
     },
     "metadata": {},
     "execution_count": 2
    }
   ],
   "source": [
    "# importing output.csv from \n",
    "weather_df = pd.read_csv(\"..\\output_data\\WeatherPy_Output\\weather.csv\")\n",
    "weather_df"
   ]
  },
  {
   "cell_type": "markdown",
   "metadata": {},
   "source": [
    "### Humidity Heatmap\n",
    "* Configure gmaps.\n",
    "* Use the Lat and Lng as locations and Humidity as the weight.\n",
    "* Add Heatmap layer to map."
   ]
  },
  {
   "cell_type": "code",
   "execution_count": 3,
   "metadata": {},
   "outputs": [
    {
     "output_type": "display_data",
     "data": {
      "text/plain": "Figure(layout=FigureLayout(height='420px'))",
      "application/vnd.jupyter.widget-view+json": {
       "version_major": 2,
       "version_minor": 0,
       "model_id": "45753c2ba5a94cdf8cc92047affca7bf"
      }
     },
     "metadata": {}
    }
   ],
   "source": [
    "# Configuring gmaps\n",
    "gmaps.configure(api_key=g_key)\n",
    "\n",
    "# Creating list of coordinates\n",
    "coordinates = weather_df[['Lat', 'Lng']]\n",
    "humidity = weather_df['Humidity']\n",
    "\n",
    "# Plotting map and adding heat layer\n",
    "fig = gmaps.figure()\n",
    "heat_layer = gmaps.heatmap_layer(coordinates, weights=humidity, \n",
    "                                 dissipating=False, max_intensity=60,\n",
    "                                 point_radius=1.5)\n",
    "fig.add_layer(heat_layer)\n",
    "\n",
    "fig"
   ]
  },
  {
   "cell_type": "markdown",
   "metadata": {},
   "source": [
    "### Create new DataFrame fitting weather criteria\n",
    "* Narrow down the cities to fit weather conditions.\n",
    "* Drop any rows will null values."
   ]
  },
  {
   "cell_type": "code",
   "execution_count": 12,
   "metadata": {},
   "outputs": [
    {
     "output_type": "execute_result",
     "data": {
      "text/plain": [
       "     Unnamed: 0                 City      Lat       Lng  Max Temp (f)  \\\n",
       "30           30      arraial do cabo -22.9661  -42.0278        72.122   \n",
       "31           31                ancud -41.8697  -73.8203        57.272   \n",
       "39           39                kapaa  22.0752 -159.3190        79.070   \n",
       "46           46               hobart -42.8794  147.3294        65.264   \n",
       "48           48             vung tau  10.3460  107.0843        83.948   \n",
       "84           84               hasaki  35.7333  140.8333        73.274   \n",
       "94           94            abatskoye  56.2875   70.4555        41.558   \n",
       "95           95                praia  14.9215  -23.5087        71.870   \n",
       "103         103            bathsheba  13.2167  -59.5167        77.270   \n",
       "155         155                bluff -46.6000  168.3333        54.266   \n",
       "180         180         saint-joseph -21.3667   55.6167        75.470   \n",
       "183         183               yulara -25.2406  130.9889        71.870   \n",
       "189         189             thompson  55.7435  -97.8558        32.270   \n",
       "206         206              biloela -24.4167  150.5000        78.386   \n",
       "334         334              shimoda  34.6667  138.9500        71.276   \n",
       "351         351               lompoc  34.6391 -120.4579        65.264   \n",
       "356         356             bardiyah  31.7561   25.0865        76.136   \n",
       "405         405   paraguacu paulista -22.4128  -50.5758        64.418   \n",
       "416         416              ushtobe  45.2514   77.9838        70.466   \n",
       "459         459          keti bandar  24.1447   67.4497        80.816   \n",
       "482         482         port lincoln -34.7333  135.8667        71.474   \n",
       "490         490  rancho palos verdes  33.7445 -118.3870        75.470   \n",
       "540         540             celestun  20.8667  -90.4000        83.408   \n",
       "541         541           shimanovsk  52.0000  127.7000        48.416   \n",
       "\n",
       "     Humidity  Cloudiness  Wind Speed  \n",
       "30         72           9        4.19  \n",
       "31         94          20        8.23  \n",
       "39         57          20        4.12  \n",
       "46         77          20        4.12  \n",
       "48         73          33        7.70  \n",
       "84         46          20        4.12  \n",
       "94         68           7        4.38  \n",
       "95         73          20        5.66  \n",
       "103        65          20        7.72  \n",
       "155        74          28        6.71  \n",
       "180        73          21        4.63  \n",
       "183        23          10        6.69  \n",
       "189        43          20        6.17  \n",
       "206        45          25        5.62  \n",
       "334        63          20        7.20  \n",
       "351        77           8        5.66  \n",
       "356        32          32        4.67  \n",
       "405        59           8        6.79  \n",
       "416        31          39        5.10  \n",
       "459        81           8        4.33  \n",
       "482        39          10        5.42  \n",
       "490        33          20        5.14  \n",
       "540        70          31        6.96  \n",
       "541        46          21        5.15  "
      ],
      "text/html": "<div>\n<style scoped>\n    .dataframe tbody tr th:only-of-type {\n        vertical-align: middle;\n    }\n\n    .dataframe tbody tr th {\n        vertical-align: top;\n    }\n\n    .dataframe thead th {\n        text-align: right;\n    }\n</style>\n<table border=\"1\" class=\"dataframe\">\n  <thead>\n    <tr style=\"text-align: right;\">\n      <th></th>\n      <th>Unnamed: 0</th>\n      <th>City</th>\n      <th>Lat</th>\n      <th>Lng</th>\n      <th>Max Temp (f)</th>\n      <th>Humidity</th>\n      <th>Cloudiness</th>\n      <th>Wind Speed</th>\n    </tr>\n  </thead>\n  <tbody>\n    <tr>\n      <th>30</th>\n      <td>30</td>\n      <td>arraial do cabo</td>\n      <td>-22.9661</td>\n      <td>-42.0278</td>\n      <td>72.122</td>\n      <td>72</td>\n      <td>9</td>\n      <td>4.19</td>\n    </tr>\n    <tr>\n      <th>31</th>\n      <td>31</td>\n      <td>ancud</td>\n      <td>-41.8697</td>\n      <td>-73.8203</td>\n      <td>57.272</td>\n      <td>94</td>\n      <td>20</td>\n      <td>8.23</td>\n    </tr>\n    <tr>\n      <th>39</th>\n      <td>39</td>\n      <td>kapaa</td>\n      <td>22.0752</td>\n      <td>-159.3190</td>\n      <td>79.070</td>\n      <td>57</td>\n      <td>20</td>\n      <td>4.12</td>\n    </tr>\n    <tr>\n      <th>46</th>\n      <td>46</td>\n      <td>hobart</td>\n      <td>-42.8794</td>\n      <td>147.3294</td>\n      <td>65.264</td>\n      <td>77</td>\n      <td>20</td>\n      <td>4.12</td>\n    </tr>\n    <tr>\n      <th>48</th>\n      <td>48</td>\n      <td>vung tau</td>\n      <td>10.3460</td>\n      <td>107.0843</td>\n      <td>83.948</td>\n      <td>73</td>\n      <td>33</td>\n      <td>7.70</td>\n    </tr>\n    <tr>\n      <th>84</th>\n      <td>84</td>\n      <td>hasaki</td>\n      <td>35.7333</td>\n      <td>140.8333</td>\n      <td>73.274</td>\n      <td>46</td>\n      <td>20</td>\n      <td>4.12</td>\n    </tr>\n    <tr>\n      <th>94</th>\n      <td>94</td>\n      <td>abatskoye</td>\n      <td>56.2875</td>\n      <td>70.4555</td>\n      <td>41.558</td>\n      <td>68</td>\n      <td>7</td>\n      <td>4.38</td>\n    </tr>\n    <tr>\n      <th>95</th>\n      <td>95</td>\n      <td>praia</td>\n      <td>14.9215</td>\n      <td>-23.5087</td>\n      <td>71.870</td>\n      <td>73</td>\n      <td>20</td>\n      <td>5.66</td>\n    </tr>\n    <tr>\n      <th>103</th>\n      <td>103</td>\n      <td>bathsheba</td>\n      <td>13.2167</td>\n      <td>-59.5167</td>\n      <td>77.270</td>\n      <td>65</td>\n      <td>20</td>\n      <td>7.72</td>\n    </tr>\n    <tr>\n      <th>155</th>\n      <td>155</td>\n      <td>bluff</td>\n      <td>-46.6000</td>\n      <td>168.3333</td>\n      <td>54.266</td>\n      <td>74</td>\n      <td>28</td>\n      <td>6.71</td>\n    </tr>\n    <tr>\n      <th>180</th>\n      <td>180</td>\n      <td>saint-joseph</td>\n      <td>-21.3667</td>\n      <td>55.6167</td>\n      <td>75.470</td>\n      <td>73</td>\n      <td>21</td>\n      <td>4.63</td>\n    </tr>\n    <tr>\n      <th>183</th>\n      <td>183</td>\n      <td>yulara</td>\n      <td>-25.2406</td>\n      <td>130.9889</td>\n      <td>71.870</td>\n      <td>23</td>\n      <td>10</td>\n      <td>6.69</td>\n    </tr>\n    <tr>\n      <th>189</th>\n      <td>189</td>\n      <td>thompson</td>\n      <td>55.7435</td>\n      <td>-97.8558</td>\n      <td>32.270</td>\n      <td>43</td>\n      <td>20</td>\n      <td>6.17</td>\n    </tr>\n    <tr>\n      <th>206</th>\n      <td>206</td>\n      <td>biloela</td>\n      <td>-24.4167</td>\n      <td>150.5000</td>\n      <td>78.386</td>\n      <td>45</td>\n      <td>25</td>\n      <td>5.62</td>\n    </tr>\n    <tr>\n      <th>334</th>\n      <td>334</td>\n      <td>shimoda</td>\n      <td>34.6667</td>\n      <td>138.9500</td>\n      <td>71.276</td>\n      <td>63</td>\n      <td>20</td>\n      <td>7.20</td>\n    </tr>\n    <tr>\n      <th>351</th>\n      <td>351</td>\n      <td>lompoc</td>\n      <td>34.6391</td>\n      <td>-120.4579</td>\n      <td>65.264</td>\n      <td>77</td>\n      <td>8</td>\n      <td>5.66</td>\n    </tr>\n    <tr>\n      <th>356</th>\n      <td>356</td>\n      <td>bardiyah</td>\n      <td>31.7561</td>\n      <td>25.0865</td>\n      <td>76.136</td>\n      <td>32</td>\n      <td>32</td>\n      <td>4.67</td>\n    </tr>\n    <tr>\n      <th>405</th>\n      <td>405</td>\n      <td>paraguacu paulista</td>\n      <td>-22.4128</td>\n      <td>-50.5758</td>\n      <td>64.418</td>\n      <td>59</td>\n      <td>8</td>\n      <td>6.79</td>\n    </tr>\n    <tr>\n      <th>416</th>\n      <td>416</td>\n      <td>ushtobe</td>\n      <td>45.2514</td>\n      <td>77.9838</td>\n      <td>70.466</td>\n      <td>31</td>\n      <td>39</td>\n      <td>5.10</td>\n    </tr>\n    <tr>\n      <th>459</th>\n      <td>459</td>\n      <td>keti bandar</td>\n      <td>24.1447</td>\n      <td>67.4497</td>\n      <td>80.816</td>\n      <td>81</td>\n      <td>8</td>\n      <td>4.33</td>\n    </tr>\n    <tr>\n      <th>482</th>\n      <td>482</td>\n      <td>port lincoln</td>\n      <td>-34.7333</td>\n      <td>135.8667</td>\n      <td>71.474</td>\n      <td>39</td>\n      <td>10</td>\n      <td>5.42</td>\n    </tr>\n    <tr>\n      <th>490</th>\n      <td>490</td>\n      <td>rancho palos verdes</td>\n      <td>33.7445</td>\n      <td>-118.3870</td>\n      <td>75.470</td>\n      <td>33</td>\n      <td>20</td>\n      <td>5.14</td>\n    </tr>\n    <tr>\n      <th>540</th>\n      <td>540</td>\n      <td>celestun</td>\n      <td>20.8667</td>\n      <td>-90.4000</td>\n      <td>83.408</td>\n      <td>70</td>\n      <td>31</td>\n      <td>6.96</td>\n    </tr>\n    <tr>\n      <th>541</th>\n      <td>541</td>\n      <td>shimanovsk</td>\n      <td>52.0000</td>\n      <td>127.7000</td>\n      <td>48.416</td>\n      <td>46</td>\n      <td>21</td>\n      <td>5.15</td>\n    </tr>\n  </tbody>\n</table>\n</div>"
     },
     "metadata": {},
     "execution_count": 12
    }
   ],
   "source": [
    "# Creating my ideal conditions\n",
    "\n",
    "ideal_df = weather_df[weather_df['Max Temp (f)'] < 84]\n",
    "ideal_df = ideal_df[(ideal_df['Wind Speed'] < 20) & (ideal_df['Wind Speed'] > 4)]\n",
    "ideal_df = ideal_df[(ideal_df['Cloudiness'] < 40) & (ideal_df['Cloudiness'] > 5)]\n",
    "ideal_df"
   ]
  },
  {
   "cell_type": "markdown",
   "metadata": {},
   "source": [
    "### Hotel Map\n",
    "* Store into variable named `hotel_df`.\n",
    "* Add a \"Hotel Name\" column to the DataFrame.\n",
    "* Set parameters to search for hotels with 5000 meters.\n",
    "* Hit the Google Places API for each city's coordinates.\n",
    "* Store the first Hotel result into the DataFrame.\n",
    "* Plot markers on top of the heatmap."
   ]
  },
  {
   "cell_type": "code",
   "execution_count": 24,
   "metadata": {},
   "outputs": [
    {
     "output_type": "stream",
     "name": "stdout",
     "text": [
      "Hotel name not found\n",
      "Hotel name not found\n"
     ]
    },
    {
     "output_type": "error",
     "ename": "ValueError",
     "evalue": "Length of values does not match length of index",
     "traceback": [
      "\u001b[1;31m---------------------------------------------------------------------------\u001b[0m",
      "\u001b[1;31mValueError\u001b[0m                                Traceback (most recent call last)",
      "\u001b[1;32m<ipython-input-24-a872186e8e4a>\u001b[0m in \u001b[0;36m<module>\u001b[1;34m\u001b[0m\n\u001b[0;32m     39\u001b[0m \u001b[1;33m\u001b[0m\u001b[0m\n\u001b[0;32m     40\u001b[0m \u001b[1;33m\u001b[0m\u001b[0m\n\u001b[1;32m---> 41\u001b[1;33m \u001b[0mhotel_df\u001b[0m\u001b[1;33m[\u001b[0m\u001b[1;34m'Hotel Name'\u001b[0m\u001b[1;33m]\u001b[0m \u001b[1;33m=\u001b[0m \u001b[0mhotel_name\u001b[0m\u001b[1;33m\u001b[0m\u001b[1;33m\u001b[0m\u001b[0m\n\u001b[0m\u001b[0;32m     42\u001b[0m \u001b[0mhotel_df\u001b[0m\u001b[1;33m\u001b[0m\u001b[1;33m\u001b[0m\u001b[0m\n",
      "\u001b[1;32m~\\anaconda3\\envs\\PythonData\\lib\\site-packages\\pandas\\core\\frame.py\u001b[0m in \u001b[0;36m__setitem__\u001b[1;34m(self, key, value)\u001b[0m\n\u001b[0;32m   2936\u001b[0m         \u001b[1;32melse\u001b[0m\u001b[1;33m:\u001b[0m\u001b[1;33m\u001b[0m\u001b[1;33m\u001b[0m\u001b[0m\n\u001b[0;32m   2937\u001b[0m             \u001b[1;31m# set column\u001b[0m\u001b[1;33m\u001b[0m\u001b[1;33m\u001b[0m\u001b[1;33m\u001b[0m\u001b[0m\n\u001b[1;32m-> 2938\u001b[1;33m             \u001b[0mself\u001b[0m\u001b[1;33m.\u001b[0m\u001b[0m_set_item\u001b[0m\u001b[1;33m(\u001b[0m\u001b[0mkey\u001b[0m\u001b[1;33m,\u001b[0m \u001b[0mvalue\u001b[0m\u001b[1;33m)\u001b[0m\u001b[1;33m\u001b[0m\u001b[1;33m\u001b[0m\u001b[0m\n\u001b[0m\u001b[0;32m   2939\u001b[0m \u001b[1;33m\u001b[0m\u001b[0m\n\u001b[0;32m   2940\u001b[0m     \u001b[1;32mdef\u001b[0m \u001b[0m_setitem_slice\u001b[0m\u001b[1;33m(\u001b[0m\u001b[0mself\u001b[0m\u001b[1;33m,\u001b[0m \u001b[0mkey\u001b[0m\u001b[1;33m,\u001b[0m \u001b[0mvalue\u001b[0m\u001b[1;33m)\u001b[0m\u001b[1;33m:\u001b[0m\u001b[1;33m\u001b[0m\u001b[1;33m\u001b[0m\u001b[0m\n",
      "\u001b[1;32m~\\anaconda3\\envs\\PythonData\\lib\\site-packages\\pandas\\core\\frame.py\u001b[0m in \u001b[0;36m_set_item\u001b[1;34m(self, key, value)\u001b[0m\n\u001b[0;32m   2998\u001b[0m \u001b[1;33m\u001b[0m\u001b[0m\n\u001b[0;32m   2999\u001b[0m         \u001b[0mself\u001b[0m\u001b[1;33m.\u001b[0m\u001b[0m_ensure_valid_index\u001b[0m\u001b[1;33m(\u001b[0m\u001b[0mvalue\u001b[0m\u001b[1;33m)\u001b[0m\u001b[1;33m\u001b[0m\u001b[1;33m\u001b[0m\u001b[0m\n\u001b[1;32m-> 3000\u001b[1;33m         \u001b[0mvalue\u001b[0m \u001b[1;33m=\u001b[0m \u001b[0mself\u001b[0m\u001b[1;33m.\u001b[0m\u001b[0m_sanitize_column\u001b[0m\u001b[1;33m(\u001b[0m\u001b[0mkey\u001b[0m\u001b[1;33m,\u001b[0m \u001b[0mvalue\u001b[0m\u001b[1;33m)\u001b[0m\u001b[1;33m\u001b[0m\u001b[1;33m\u001b[0m\u001b[0m\n\u001b[0m\u001b[0;32m   3001\u001b[0m         \u001b[0mNDFrame\u001b[0m\u001b[1;33m.\u001b[0m\u001b[0m_set_item\u001b[0m\u001b[1;33m(\u001b[0m\u001b[0mself\u001b[0m\u001b[1;33m,\u001b[0m \u001b[0mkey\u001b[0m\u001b[1;33m,\u001b[0m \u001b[0mvalue\u001b[0m\u001b[1;33m)\u001b[0m\u001b[1;33m\u001b[0m\u001b[1;33m\u001b[0m\u001b[0m\n\u001b[0;32m   3002\u001b[0m \u001b[1;33m\u001b[0m\u001b[0m\n",
      "\u001b[1;32m~\\anaconda3\\envs\\PythonData\\lib\\site-packages\\pandas\\core\\frame.py\u001b[0m in \u001b[0;36m_sanitize_column\u001b[1;34m(self, key, value, broadcast)\u001b[0m\n\u001b[0;32m   3634\u001b[0m \u001b[1;33m\u001b[0m\u001b[0m\n\u001b[0;32m   3635\u001b[0m             \u001b[1;31m# turn me into an ndarray\u001b[0m\u001b[1;33m\u001b[0m\u001b[1;33m\u001b[0m\u001b[1;33m\u001b[0m\u001b[0m\n\u001b[1;32m-> 3636\u001b[1;33m             \u001b[0mvalue\u001b[0m \u001b[1;33m=\u001b[0m \u001b[0msanitize_index\u001b[0m\u001b[1;33m(\u001b[0m\u001b[0mvalue\u001b[0m\u001b[1;33m,\u001b[0m \u001b[0mself\u001b[0m\u001b[1;33m.\u001b[0m\u001b[0mindex\u001b[0m\u001b[1;33m,\u001b[0m \u001b[0mcopy\u001b[0m\u001b[1;33m=\u001b[0m\u001b[1;32mFalse\u001b[0m\u001b[1;33m)\u001b[0m\u001b[1;33m\u001b[0m\u001b[1;33m\u001b[0m\u001b[0m\n\u001b[0m\u001b[0;32m   3637\u001b[0m             \u001b[1;32mif\u001b[0m \u001b[1;32mnot\u001b[0m \u001b[0misinstance\u001b[0m\u001b[1;33m(\u001b[0m\u001b[0mvalue\u001b[0m\u001b[1;33m,\u001b[0m \u001b[1;33m(\u001b[0m\u001b[0mnp\u001b[0m\u001b[1;33m.\u001b[0m\u001b[0mndarray\u001b[0m\u001b[1;33m,\u001b[0m \u001b[0mIndex\u001b[0m\u001b[1;33m)\u001b[0m\u001b[1;33m)\u001b[0m\u001b[1;33m:\u001b[0m\u001b[1;33m\u001b[0m\u001b[1;33m\u001b[0m\u001b[0m\n\u001b[0;32m   3638\u001b[0m                 \u001b[1;32mif\u001b[0m \u001b[0misinstance\u001b[0m\u001b[1;33m(\u001b[0m\u001b[0mvalue\u001b[0m\u001b[1;33m,\u001b[0m \u001b[0mlist\u001b[0m\u001b[1;33m)\u001b[0m \u001b[1;32mand\u001b[0m \u001b[0mlen\u001b[0m\u001b[1;33m(\u001b[0m\u001b[0mvalue\u001b[0m\u001b[1;33m)\u001b[0m \u001b[1;33m>\u001b[0m \u001b[1;36m0\u001b[0m\u001b[1;33m:\u001b[0m\u001b[1;33m\u001b[0m\u001b[1;33m\u001b[0m\u001b[0m\n",
      "\u001b[1;32m~\\anaconda3\\envs\\PythonData\\lib\\site-packages\\pandas\\core\\internals\\construction.py\u001b[0m in \u001b[0;36msanitize_index\u001b[1;34m(data, index, copy)\u001b[0m\n\u001b[0;32m    609\u001b[0m \u001b[1;33m\u001b[0m\u001b[0m\n\u001b[0;32m    610\u001b[0m     \u001b[1;32mif\u001b[0m \u001b[0mlen\u001b[0m\u001b[1;33m(\u001b[0m\u001b[0mdata\u001b[0m\u001b[1;33m)\u001b[0m \u001b[1;33m!=\u001b[0m \u001b[0mlen\u001b[0m\u001b[1;33m(\u001b[0m\u001b[0mindex\u001b[0m\u001b[1;33m)\u001b[0m\u001b[1;33m:\u001b[0m\u001b[1;33m\u001b[0m\u001b[1;33m\u001b[0m\u001b[0m\n\u001b[1;32m--> 611\u001b[1;33m         \u001b[1;32mraise\u001b[0m \u001b[0mValueError\u001b[0m\u001b[1;33m(\u001b[0m\u001b[1;34m\"Length of values does not match length of index\"\u001b[0m\u001b[1;33m)\u001b[0m\u001b[1;33m\u001b[0m\u001b[1;33m\u001b[0m\u001b[0m\n\u001b[0m\u001b[0;32m    612\u001b[0m \u001b[1;33m\u001b[0m\u001b[0m\n\u001b[0;32m    613\u001b[0m     \u001b[1;32mif\u001b[0m \u001b[0misinstance\u001b[0m\u001b[1;33m(\u001b[0m\u001b[0mdata\u001b[0m\u001b[1;33m,\u001b[0m \u001b[0mABCIndexClass\u001b[0m\u001b[1;33m)\u001b[0m \u001b[1;32mand\u001b[0m \u001b[1;32mnot\u001b[0m \u001b[0mcopy\u001b[0m\u001b[1;33m:\u001b[0m\u001b[1;33m\u001b[0m\u001b[1;33m\u001b[0m\u001b[0m\n",
      "\u001b[1;31mValueError\u001b[0m: Length of values does not match length of index"
     ]
    }
   ],
   "source": [
    "# Creating hotel data frame and adding blank \"Hotel Name\" column\n",
    "hotel_df = ideal_df\n",
    "hotel_df['Hotel Name'] = ''\n",
    "\n",
    "hotel_name = []\n",
    "hotel_lat = []\n",
    "hotel_lng = []\n",
    "\n",
    "# Creating for loop to add hotel for each row\n",
    "for i, row in hotel_df.iterrows():\n",
    "\n",
    "    try:\n",
    "        # Setting search parameters and city coordinates\n",
    "        hotel_search = \"Hotel\"\n",
    "        city_coords = f\"{row[2]},{row[3]}\"\n",
    "        radius = 5000\n",
    "\n",
    "        params = {\n",
    "            \"location\": city_coords,\n",
    "            \"keyword\": hotel_search,\n",
    "            \"radius\": radius,\n",
    "            \"key\": g_key\n",
    "        }\n",
    "\n",
    "        # Building URL for Google Maps API\n",
    "        base_url = \"https://maps.googleapis.com/maps/api/place/nearbysearch/json\"\n",
    "        response = requests.get(base_url, params)\n",
    "\n",
    "\n",
    "        hotel_choice = response.json()\n",
    "\n",
    "    \n",
    "\n",
    "        hotel_name.append(hotel_choice['results'][0]['name'])\n",
    "        hotel_lat.append(hotel_choice['results'][0]['geometry']['location']['lat'])\n",
    "        hotel_lng.append(hotel_choice['results'][0]['geometry']['location']['lng'])\n",
    "    except:\n",
    "        print(\"Hotel name not found\")\n",
    "\n",
    "\n",
    "hotel_df['Hotel Name'] = hotel_name\n",
    "hotel_df"
   ]
  },
  {
   "cell_type": "code",
   "execution_count": null,
   "metadata": {},
   "outputs": [],
   "source": []
  },
  {
   "cell_type": "code",
   "execution_count": null,
   "metadata": {},
   "outputs": [],
   "source": [
    "# NOTE: Do not change any of the code in this cell\n",
    "\n",
    "# Using the template add the hotel marks to the heatmap\n",
    "info_box_template = \"\"\"\n",
    "<dl>\n",
    "<dt>Name</dt><dd>{Hotel Name}</dd>\n",
    "<dt>City</dt><dd>{City}</dd>\n",
    "<dt>Country</dt><dd>{Country}</dd>\n",
    "</dl>\n",
    "\"\"\"\n",
    "# Store the DataFrame Row\n",
    "# NOTE: be sure to update with your DataFrame name\n",
    "hotel_info = [info_box_template.format(**row) for index, row in hotel_df.iterrows()]\n",
    "locations = hotel_df[[\"Lat\", \"Lng\"]]"
   ]
  },
  {
   "cell_type": "code",
   "execution_count": null,
   "metadata": {},
   "outputs": [],
   "source": [
    "# Add marker layer ontop of heat map\n",
    "\n",
    "\n",
    "# Display figure\n"
   ]
  },
  {
   "cell_type": "code",
   "execution_count": null,
   "metadata": {},
   "outputs": [],
   "source": []
  }
 ],
 "metadata": {
  "kernelspec": {
   "name": "python3610jvsc74a57bd0e972a1c227eab60d79da5ddea00ebea501e29c795e9aef26b275d2f9e668c2f2",
   "display_name": "Python 3.6.10 64-bit ('PythonData': conda)"
  },
  "language_info": {
   "codemirror_mode": {
    "name": "ipython",
    "version": 3
   },
   "file_extension": ".py",
   "mimetype": "text/x-python",
   "name": "python",
   "nbconvert_exporter": "python",
   "pygments_lexer": "ipython3",
   "version": "3.6.10"
  },
  "latex_envs": {
   "LaTeX_envs_menu_present": true,
   "autoclose": false,
   "autocomplete": true,
   "bibliofile": "biblio.bib",
   "cite_by": "apalike",
   "current_citInitial": 1,
   "eqLabelWithNumbers": true,
   "eqNumInitial": 1,
   "hotkeys": {
    "equation": "Ctrl-E",
    "itemize": "Ctrl-I"
   },
   "labels_anchors": false,
   "latex_user_defs": false,
   "report_style_numbering": false,
   "user_envs_cfg": false
  }
 },
 "nbformat": 4,
 "nbformat_minor": 4
}